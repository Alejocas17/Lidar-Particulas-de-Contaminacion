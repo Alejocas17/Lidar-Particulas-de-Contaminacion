{
 "cells": [
  {
   "cell_type": "code",
   "execution_count": 1,
   "metadata": {},
   "outputs": [],
   "source": [
    "import pandas as pd\n",
    "import numpy as np\n",
    "import matplotlib.pyplot as plt\n"
   ]
  },
  {
   "cell_type": "code",
   "execution_count": 2,
   "metadata": {},
   "outputs": [
    {
     "data": {
      "text/html": [
       "<div>\n",
       "<style scoped>\n",
       "    .dataframe tbody tr th:only-of-type {\n",
       "        vertical-align: middle;\n",
       "    }\n",
       "\n",
       "    .dataframe tbody tr th {\n",
       "        vertical-align: top;\n",
       "    }\n",
       "\n",
       "    .dataframe thead th {\n",
       "        text-align: right;\n",
       "    }\n",
       "</style>\n",
       "<table border=\"1\" class=\"dataframe\">\n",
       "  <thead>\n",
       "    <tr style=\"text-align: right;\">\n",
       "      <th></th>\n",
       "      <th>fecha_dato</th>\n",
       "      <th>AC</th>\n",
       "      <th>C_C</th>\n",
       "      <th>NM</th>\n",
       "      <th>CV</th>\n",
       "    </tr>\n",
       "  </thead>\n",
       "  <tbody>\n",
       "    <tr>\n",
       "      <th>0</th>\n",
       "      <td>2013-09-09 18:00:00</td>\n",
       "      <td>3.70</td>\n",
       "      <td>IN</td>\n",
       "      <td>8</td>\n",
       "      <td>CC85-92</td>\n",
       "    </tr>\n",
       "    <tr>\n",
       "      <th>1</th>\n",
       "      <td>2013-09-02 16:00:00</td>\n",
       "      <td>2.39</td>\n",
       "      <td>IN</td>\n",
       "      <td>22</td>\n",
       "      <td>CC85-92</td>\n",
       "    </tr>\n",
       "    <tr>\n",
       "      <th>2</th>\n",
       "      <td>2013-09-09 15:00:00</td>\n",
       "      <td>9.65</td>\n",
       "      <td>IN</td>\n",
       "      <td>12</td>\n",
       "      <td>CC85-92</td>\n",
       "    </tr>\n",
       "    <tr>\n",
       "      <th>3</th>\n",
       "      <td>2013-01-17 22:00:00</td>\n",
       "      <td>8.64</td>\n",
       "      <td>IN</td>\n",
       "      <td>7</td>\n",
       "      <td>CC85-92</td>\n",
       "    </tr>\n",
       "    <tr>\n",
       "      <th>4</th>\n",
       "      <td>2013-01-20 16:00:00</td>\n",
       "      <td>2.06</td>\n",
       "      <td>IN</td>\n",
       "      <td>7</td>\n",
       "      <td>CC85-92</td>\n",
       "    </tr>\n",
       "  </tbody>\n",
       "</table>\n",
       "</div>"
      ],
      "text/plain": [
       "            fecha_dato    AC C_C  NM       CV\n",
       "0  2013-09-09 18:00:00  3.70  IN   8  CC85-92\n",
       "1  2013-09-02 16:00:00  2.39  IN  22  CC85-92\n",
       "2  2013-09-09 15:00:00  9.65  IN  12  CC85-92\n",
       "3  2013-01-17 22:00:00  8.64  IN   7  CC85-92\n",
       "4  2013-01-20 16:00:00  2.06  IN   7  CC85-92"
      ]
     },
     "execution_count": 2,
     "metadata": {},
     "output_type": "execute_result"
    }
   ],
   "source": [
    "data=pd.read_csv(\"IN-08-06-2020.csv\")\n",
    "\n",
    "\n",
    "data.head()"
   ]
  },
  {
   "cell_type": "code",
   "execution_count": 5,
   "metadata": {
    "scrolled": false
   },
   "outputs": [],
   "source": [
    "#Separacion de columnas\n",
    "#dataNI=data[['date','NI']]\n",
    "dataC_C=data[['fecha_dato','C_C']]\n",
    "dataNM=data[['fecha_dato','NM']]\n",
    "#dataNH=data[['date','Departamento']]#dataNH=data[['date','NH']]\n",
    "dataAC=data[['fecha_dato','AC']] #dataAC=data[['date','Area']] \n",
    "dataCV=data[['fecha_dato','CV']]\n",
    "#data_vel_inicial=data[['date','vel_inicial']]\n",
    "#data_vel_final=data[['date','vel_final']]\n",
    "#data_dir_inicial=data[['date','dir_inicial']]\n",
    "#data_dir_final=data[['date','dir_final']]\n",
    "#dataNC=data[['date','NC']]\n",
    "\n",
    "#Agrupacion por fecha (valores tipo string)\n",
    "#data3=dataNH.groupby(['fecha_dato'], as_index=False)\n",
    "data5=dataCV.groupby(['fecha_dato'], as_index=False)\n",
    "#data8=data_dir_inicial.groupby(['fecha_dato'], as_index=False)\n",
    "#data9=data_dir_final.groupby(['fecha_dato'], as_index=False)\n",
    "#data10=dataNC.groupby(['fecha_dato'], as_index=False)\n",
    "\n",
    "\n",
    "data1=dataC_C.groupby(['fecha_dato'], as_index=False)\n",
    "data2=dataNM.groupby(['fecha_dato'], as_index=False)\n",
    "\n",
    "\n",
    "#Seleccionando el nombre que más se repite (valores tipo string)\n",
    "data1=data1['C_C'].max()\n",
    "data2=data2['NM'].max()\n",
    "#data3=data3['Departamento'].max()#data3=data3['NH'].max()\n",
    "data5=data5['CV'].max()\n",
    "#data8=data8['dir_inicial'].max()\n",
    "#data9=data9['dir_final'].max()\n",
    "#data10=data10['NC'].max()\n",
    "\n",
    "#Seleccionando promedio (valores tipo int)\n",
    "\n",
    "data4=dataAC.groupby(['fecha_dato'], as_index=False)\n",
    "data4=data4['AC'].sum()\n",
    "#data6=data_vel_inicial.groupby(['date'], as_index=False).mean()\n",
    "#data7=data_vel_final.groupby(['date'], as_index=False).mean()"
   ]
  },
  {
   "cell_type": "code",
   "execution_count": 6,
   "metadata": {},
   "outputs": [],
   "source": [
    "data1.to_csv('resultbyC_C.csv')\n",
    "data2.to_csv('resultbyNM.csv')\n",
    "#data3.to_csv('resultbyNH.csv')\n",
    "data4.to_csv('resultbyAC.csv')\n",
    "data5.to_csv('resultbyCV.csv')\n",
    "#data6.to_csv('resultby_vel_inicial.csv')\n",
    "#data7.to_csv('resultby_vel_final.csv')\n",
    "#data8.to_csv('resultby_dir_inicial.csv')\n",
    "#data9.to_csv('resultby_dir_final.csv')\n",
    "#data10.to_csv('resultbyNC.csv')"
   ]
  }
 ],
 "metadata": {
  "kernelspec": {
   "display_name": "Python 3",
   "language": "python",
   "name": "python3"
  },
  "language_info": {
   "codemirror_mode": {
    "name": "ipython",
    "version": 3
   },
   "file_extension": ".py",
   "mimetype": "text/x-python",
   "name": "python",
   "nbconvert_exporter": "python",
   "pygments_lexer": "ipython3",
   "version": "3.7.6"
  }
 },
 "nbformat": 4,
 "nbformat_minor": 4
}
